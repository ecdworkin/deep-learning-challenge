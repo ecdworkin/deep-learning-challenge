{
  "cells": [
    {
      "cell_type": "markdown",
      "metadata": {
        "id": "view-in-github",
        "colab_type": "text"
      },
      "source": [
        "<a href=\"https://colab.research.google.com/github/ecdworkin/deep-learning-challenge/blob/main/Completed_Starter_Code.ipynb\" target=\"_parent\"><img src=\"https://colab.research.google.com/assets/colab-badge.svg\" alt=\"Open In Colab\"/></a>"
      ]
    },
    {
      "cell_type": "markdown",
      "metadata": {
        "id": "rUaPyr-deWLb"
      },
      "source": [
        "## Preprocessing"
      ]
    },
    {
      "cell_type": "code",
      "execution_count": 38,
      "metadata": {
        "colab": {
          "base_uri": "https://localhost:8080/",
          "height": 445
        },
        "id": "bRha1pnMeWLc",
        "outputId": "93e995ac-e966-488c-8b8e-9900cf735018"
      },
      "outputs": [
        {
          "output_type": "execute_result",
          "data": {
            "text/plain": [
              "        EIN                                      NAME APPLICATION_TYPE  \\\n",
              "0  10520599              BLUE KNIGHTS MOTORCYCLE CLUB              T10   \n",
              "1  10531628    AMERICAN CHESAPEAKE CLUB CHARITABLE TR               T3   \n",
              "2  10547893        ST CLOUD PROFESSIONAL FIREFIGHTERS               T5   \n",
              "3  10553066            SOUTHSIDE ATHLETIC ASSOCIATION               T3   \n",
              "4  10556103  GENETIC RESEARCH INSTITUTE OF THE DESERT               T3   \n",
              "\n",
              "        AFFILIATION CLASSIFICATION      USE_CASE  ORGANIZATION  STATUS  \\\n",
              "0       Independent          C1000    ProductDev   Association       1   \n",
              "1       Independent          C2000  Preservation  Co-operative       1   \n",
              "2  CompanySponsored          C3000    ProductDev   Association       1   \n",
              "3  CompanySponsored          C2000  Preservation         Trust       1   \n",
              "4       Independent          C1000     Heathcare         Trust       1   \n",
              "\n",
              "      INCOME_AMT SPECIAL_CONSIDERATIONS  ASK_AMT  IS_SUCCESSFUL  \n",
              "0              0                      N     5000              1  \n",
              "1         1-9999                      N   108590              1  \n",
              "2              0                      N     5000              0  \n",
              "3    10000-24999                      N     6692              1  \n",
              "4  100000-499999                      N   142590              1  "
            ],
            "text/html": [
              "\n",
              "  <div id=\"df-7a1864fe-6426-4692-80ba-59789ac0207f\" class=\"colab-df-container\">\n",
              "    <div>\n",
              "<style scoped>\n",
              "    .dataframe tbody tr th:only-of-type {\n",
              "        vertical-align: middle;\n",
              "    }\n",
              "\n",
              "    .dataframe tbody tr th {\n",
              "        vertical-align: top;\n",
              "    }\n",
              "\n",
              "    .dataframe thead th {\n",
              "        text-align: right;\n",
              "    }\n",
              "</style>\n",
              "<table border=\"1\" class=\"dataframe\">\n",
              "  <thead>\n",
              "    <tr style=\"text-align: right;\">\n",
              "      <th></th>\n",
              "      <th>EIN</th>\n",
              "      <th>NAME</th>\n",
              "      <th>APPLICATION_TYPE</th>\n",
              "      <th>AFFILIATION</th>\n",
              "      <th>CLASSIFICATION</th>\n",
              "      <th>USE_CASE</th>\n",
              "      <th>ORGANIZATION</th>\n",
              "      <th>STATUS</th>\n",
              "      <th>INCOME_AMT</th>\n",
              "      <th>SPECIAL_CONSIDERATIONS</th>\n",
              "      <th>ASK_AMT</th>\n",
              "      <th>IS_SUCCESSFUL</th>\n",
              "    </tr>\n",
              "  </thead>\n",
              "  <tbody>\n",
              "    <tr>\n",
              "      <th>0</th>\n",
              "      <td>10520599</td>\n",
              "      <td>BLUE KNIGHTS MOTORCYCLE CLUB</td>\n",
              "      <td>T10</td>\n",
              "      <td>Independent</td>\n",
              "      <td>C1000</td>\n",
              "      <td>ProductDev</td>\n",
              "      <td>Association</td>\n",
              "      <td>1</td>\n",
              "      <td>0</td>\n",
              "      <td>N</td>\n",
              "      <td>5000</td>\n",
              "      <td>1</td>\n",
              "    </tr>\n",
              "    <tr>\n",
              "      <th>1</th>\n",
              "      <td>10531628</td>\n",
              "      <td>AMERICAN CHESAPEAKE CLUB CHARITABLE TR</td>\n",
              "      <td>T3</td>\n",
              "      <td>Independent</td>\n",
              "      <td>C2000</td>\n",
              "      <td>Preservation</td>\n",
              "      <td>Co-operative</td>\n",
              "      <td>1</td>\n",
              "      <td>1-9999</td>\n",
              "      <td>N</td>\n",
              "      <td>108590</td>\n",
              "      <td>1</td>\n",
              "    </tr>\n",
              "    <tr>\n",
              "      <th>2</th>\n",
              "      <td>10547893</td>\n",
              "      <td>ST CLOUD PROFESSIONAL FIREFIGHTERS</td>\n",
              "      <td>T5</td>\n",
              "      <td>CompanySponsored</td>\n",
              "      <td>C3000</td>\n",
              "      <td>ProductDev</td>\n",
              "      <td>Association</td>\n",
              "      <td>1</td>\n",
              "      <td>0</td>\n",
              "      <td>N</td>\n",
              "      <td>5000</td>\n",
              "      <td>0</td>\n",
              "    </tr>\n",
              "    <tr>\n",
              "      <th>3</th>\n",
              "      <td>10553066</td>\n",
              "      <td>SOUTHSIDE ATHLETIC ASSOCIATION</td>\n",
              "      <td>T3</td>\n",
              "      <td>CompanySponsored</td>\n",
              "      <td>C2000</td>\n",
              "      <td>Preservation</td>\n",
              "      <td>Trust</td>\n",
              "      <td>1</td>\n",
              "      <td>10000-24999</td>\n",
              "      <td>N</td>\n",
              "      <td>6692</td>\n",
              "      <td>1</td>\n",
              "    </tr>\n",
              "    <tr>\n",
              "      <th>4</th>\n",
              "      <td>10556103</td>\n",
              "      <td>GENETIC RESEARCH INSTITUTE OF THE DESERT</td>\n",
              "      <td>T3</td>\n",
              "      <td>Independent</td>\n",
              "      <td>C1000</td>\n",
              "      <td>Heathcare</td>\n",
              "      <td>Trust</td>\n",
              "      <td>1</td>\n",
              "      <td>100000-499999</td>\n",
              "      <td>N</td>\n",
              "      <td>142590</td>\n",
              "      <td>1</td>\n",
              "    </tr>\n",
              "  </tbody>\n",
              "</table>\n",
              "</div>\n",
              "    <div class=\"colab-df-buttons\">\n",
              "\n",
              "  <div class=\"colab-df-container\">\n",
              "    <button class=\"colab-df-convert\" onclick=\"convertToInteractive('df-7a1864fe-6426-4692-80ba-59789ac0207f')\"\n",
              "            title=\"Convert this dataframe to an interactive table.\"\n",
              "            style=\"display:none;\">\n",
              "\n",
              "  <svg xmlns=\"http://www.w3.org/2000/svg\" height=\"24px\" viewBox=\"0 -960 960 960\">\n",
              "    <path d=\"M120-120v-720h720v720H120Zm60-500h600v-160H180v160Zm220 220h160v-160H400v160Zm0 220h160v-160H400v160ZM180-400h160v-160H180v160Zm440 0h160v-160H620v160ZM180-180h160v-160H180v160Zm440 0h160v-160H620v160Z\"/>\n",
              "  </svg>\n",
              "    </button>\n",
              "\n",
              "  <style>\n",
              "    .colab-df-container {\n",
              "      display:flex;\n",
              "      gap: 12px;\n",
              "    }\n",
              "\n",
              "    .colab-df-convert {\n",
              "      background-color: #E8F0FE;\n",
              "      border: none;\n",
              "      border-radius: 50%;\n",
              "      cursor: pointer;\n",
              "      display: none;\n",
              "      fill: #1967D2;\n",
              "      height: 32px;\n",
              "      padding: 0 0 0 0;\n",
              "      width: 32px;\n",
              "    }\n",
              "\n",
              "    .colab-df-convert:hover {\n",
              "      background-color: #E2EBFA;\n",
              "      box-shadow: 0px 1px 2px rgba(60, 64, 67, 0.3), 0px 1px 3px 1px rgba(60, 64, 67, 0.15);\n",
              "      fill: #174EA6;\n",
              "    }\n",
              "\n",
              "    .colab-df-buttons div {\n",
              "      margin-bottom: 4px;\n",
              "    }\n",
              "\n",
              "    [theme=dark] .colab-df-convert {\n",
              "      background-color: #3B4455;\n",
              "      fill: #D2E3FC;\n",
              "    }\n",
              "\n",
              "    [theme=dark] .colab-df-convert:hover {\n",
              "      background-color: #434B5C;\n",
              "      box-shadow: 0px 1px 3px 1px rgba(0, 0, 0, 0.15);\n",
              "      filter: drop-shadow(0px 1px 2px rgba(0, 0, 0, 0.3));\n",
              "      fill: #FFFFFF;\n",
              "    }\n",
              "  </style>\n",
              "\n",
              "    <script>\n",
              "      const buttonEl =\n",
              "        document.querySelector('#df-7a1864fe-6426-4692-80ba-59789ac0207f button.colab-df-convert');\n",
              "      buttonEl.style.display =\n",
              "        google.colab.kernel.accessAllowed ? 'block' : 'none';\n",
              "\n",
              "      async function convertToInteractive(key) {\n",
              "        const element = document.querySelector('#df-7a1864fe-6426-4692-80ba-59789ac0207f');\n",
              "        const dataTable =\n",
              "          await google.colab.kernel.invokeFunction('convertToInteractive',\n",
              "                                                    [key], {});\n",
              "        if (!dataTable) return;\n",
              "\n",
              "        const docLinkHtml = 'Like what you see? Visit the ' +\n",
              "          '<a target=\"_blank\" href=https://colab.research.google.com/notebooks/data_table.ipynb>data table notebook</a>'\n",
              "          + ' to learn more about interactive tables.';\n",
              "        element.innerHTML = '';\n",
              "        dataTable['output_type'] = 'display_data';\n",
              "        await google.colab.output.renderOutput(dataTable, element);\n",
              "        const docLink = document.createElement('div');\n",
              "        docLink.innerHTML = docLinkHtml;\n",
              "        element.appendChild(docLink);\n",
              "      }\n",
              "    </script>\n",
              "  </div>\n",
              "\n",
              "\n",
              "<div id=\"df-4ee9fa15-83f7-4d94-ab54-6f7edb80e996\">\n",
              "  <button class=\"colab-df-quickchart\" onclick=\"quickchart('df-4ee9fa15-83f7-4d94-ab54-6f7edb80e996')\"\n",
              "            title=\"Suggest charts\"\n",
              "            style=\"display:none;\">\n",
              "\n",
              "<svg xmlns=\"http://www.w3.org/2000/svg\" height=\"24px\"viewBox=\"0 0 24 24\"\n",
              "     width=\"24px\">\n",
              "    <g>\n",
              "        <path d=\"M19 3H5c-1.1 0-2 .9-2 2v14c0 1.1.9 2 2 2h14c1.1 0 2-.9 2-2V5c0-1.1-.9-2-2-2zM9 17H7v-7h2v7zm4 0h-2V7h2v10zm4 0h-2v-4h2v4z\"/>\n",
              "    </g>\n",
              "</svg>\n",
              "  </button>\n",
              "\n",
              "<style>\n",
              "  .colab-df-quickchart {\n",
              "      --bg-color: #E8F0FE;\n",
              "      --fill-color: #1967D2;\n",
              "      --hover-bg-color: #E2EBFA;\n",
              "      --hover-fill-color: #174EA6;\n",
              "      --disabled-fill-color: #AAA;\n",
              "      --disabled-bg-color: #DDD;\n",
              "  }\n",
              "\n",
              "  [theme=dark] .colab-df-quickchart {\n",
              "      --bg-color: #3B4455;\n",
              "      --fill-color: #D2E3FC;\n",
              "      --hover-bg-color: #434B5C;\n",
              "      --hover-fill-color: #FFFFFF;\n",
              "      --disabled-bg-color: #3B4455;\n",
              "      --disabled-fill-color: #666;\n",
              "  }\n",
              "\n",
              "  .colab-df-quickchart {\n",
              "    background-color: var(--bg-color);\n",
              "    border: none;\n",
              "    border-radius: 50%;\n",
              "    cursor: pointer;\n",
              "    display: none;\n",
              "    fill: var(--fill-color);\n",
              "    height: 32px;\n",
              "    padding: 0;\n",
              "    width: 32px;\n",
              "  }\n",
              "\n",
              "  .colab-df-quickchart:hover {\n",
              "    background-color: var(--hover-bg-color);\n",
              "    box-shadow: 0 1px 2px rgba(60, 64, 67, 0.3), 0 1px 3px 1px rgba(60, 64, 67, 0.15);\n",
              "    fill: var(--button-hover-fill-color);\n",
              "  }\n",
              "\n",
              "  .colab-df-quickchart-complete:disabled,\n",
              "  .colab-df-quickchart-complete:disabled:hover {\n",
              "    background-color: var(--disabled-bg-color);\n",
              "    fill: var(--disabled-fill-color);\n",
              "    box-shadow: none;\n",
              "  }\n",
              "\n",
              "  .colab-df-spinner {\n",
              "    border: 2px solid var(--fill-color);\n",
              "    border-color: transparent;\n",
              "    border-bottom-color: var(--fill-color);\n",
              "    animation:\n",
              "      spin 1s steps(1) infinite;\n",
              "  }\n",
              "\n",
              "  @keyframes spin {\n",
              "    0% {\n",
              "      border-color: transparent;\n",
              "      border-bottom-color: var(--fill-color);\n",
              "      border-left-color: var(--fill-color);\n",
              "    }\n",
              "    20% {\n",
              "      border-color: transparent;\n",
              "      border-left-color: var(--fill-color);\n",
              "      border-top-color: var(--fill-color);\n",
              "    }\n",
              "    30% {\n",
              "      border-color: transparent;\n",
              "      border-left-color: var(--fill-color);\n",
              "      border-top-color: var(--fill-color);\n",
              "      border-right-color: var(--fill-color);\n",
              "    }\n",
              "    40% {\n",
              "      border-color: transparent;\n",
              "      border-right-color: var(--fill-color);\n",
              "      border-top-color: var(--fill-color);\n",
              "    }\n",
              "    60% {\n",
              "      border-color: transparent;\n",
              "      border-right-color: var(--fill-color);\n",
              "    }\n",
              "    80% {\n",
              "      border-color: transparent;\n",
              "      border-right-color: var(--fill-color);\n",
              "      border-bottom-color: var(--fill-color);\n",
              "    }\n",
              "    90% {\n",
              "      border-color: transparent;\n",
              "      border-bottom-color: var(--fill-color);\n",
              "    }\n",
              "  }\n",
              "</style>\n",
              "\n",
              "  <script>\n",
              "    async function quickchart(key) {\n",
              "      const quickchartButtonEl =\n",
              "        document.querySelector('#' + key + ' button');\n",
              "      quickchartButtonEl.disabled = true;  // To prevent multiple clicks.\n",
              "      quickchartButtonEl.classList.add('colab-df-spinner');\n",
              "      try {\n",
              "        const charts = await google.colab.kernel.invokeFunction(\n",
              "            'suggestCharts', [key], {});\n",
              "      } catch (error) {\n",
              "        console.error('Error during call to suggestCharts:', error);\n",
              "      }\n",
              "      quickchartButtonEl.classList.remove('colab-df-spinner');\n",
              "      quickchartButtonEl.classList.add('colab-df-quickchart-complete');\n",
              "    }\n",
              "    (() => {\n",
              "      let quickchartButtonEl =\n",
              "        document.querySelector('#df-4ee9fa15-83f7-4d94-ab54-6f7edb80e996 button');\n",
              "      quickchartButtonEl.style.display =\n",
              "        google.colab.kernel.accessAllowed ? 'block' : 'none';\n",
              "    })();\n",
              "  </script>\n",
              "</div>\n",
              "\n",
              "    </div>\n",
              "  </div>\n"
            ],
            "application/vnd.google.colaboratory.intrinsic+json": {
              "type": "dataframe",
              "variable_name": "application_df",
              "summary": "{\n  \"name\": \"application_df\",\n  \"rows\": 34299,\n  \"fields\": [\n    {\n      \"column\": \"EIN\",\n      \"properties\": {\n        \"dtype\": \"number\",\n        \"std\": 245147183,\n        \"min\": 10520599,\n        \"max\": 996086871,\n        \"num_unique_values\": 34299,\n        \"samples\": [\n          271598055,\n          900109768,\n          352562499\n        ],\n        \"semantic_type\": \"\",\n        \"description\": \"\"\n      }\n    },\n    {\n      \"column\": \"NAME\",\n      \"properties\": {\n        \"dtype\": \"string\",\n        \"num_unique_values\": 19568,\n        \"samples\": [\n          \"LOCAL 12 USW GOODYEAR INSTITUTE FORCAREER DEVELOPMENT\",\n          \"INTERNATION ASSOCIATION OF ELECTRICAL INSPECTORS\",\n          \"BRICKLAYERS & ALLIED CRAFTWORKERS LOCAL 13 VACATION FUND\"\n        ],\n        \"semantic_type\": \"\",\n        \"description\": \"\"\n      }\n    },\n    {\n      \"column\": \"APPLICATION_TYPE\",\n      \"properties\": {\n        \"dtype\": \"category\",\n        \"num_unique_values\": 17,\n        \"samples\": [\n          \"T10\",\n          \"T3\",\n          \"T6\"\n        ],\n        \"semantic_type\": \"\",\n        \"description\": \"\"\n      }\n    },\n    {\n      \"column\": \"AFFILIATION\",\n      \"properties\": {\n        \"dtype\": \"category\",\n        \"num_unique_values\": 6,\n        \"samples\": [\n          \"Independent\",\n          \"CompanySponsored\",\n          \"Other\"\n        ],\n        \"semantic_type\": \"\",\n        \"description\": \"\"\n      }\n    },\n    {\n      \"column\": \"CLASSIFICATION\",\n      \"properties\": {\n        \"dtype\": \"category\",\n        \"num_unique_values\": 71,\n        \"samples\": [\n          \"C1500\",\n          \"C1000\",\n          \"C1570\"\n        ],\n        \"semantic_type\": \"\",\n        \"description\": \"\"\n      }\n    },\n    {\n      \"column\": \"USE_CASE\",\n      \"properties\": {\n        \"dtype\": \"category\",\n        \"num_unique_values\": 5,\n        \"samples\": [\n          \"Preservation\",\n          \"Other\",\n          \"Heathcare\"\n        ],\n        \"semantic_type\": \"\",\n        \"description\": \"\"\n      }\n    },\n    {\n      \"column\": \"ORGANIZATION\",\n      \"properties\": {\n        \"dtype\": \"category\",\n        \"num_unique_values\": 4,\n        \"samples\": [\n          \"Co-operative\",\n          \"Corporation\",\n          \"Association\"\n        ],\n        \"semantic_type\": \"\",\n        \"description\": \"\"\n      }\n    },\n    {\n      \"column\": \"STATUS\",\n      \"properties\": {\n        \"dtype\": \"number\",\n        \"std\": 0,\n        \"min\": 0,\n        \"max\": 1,\n        \"num_unique_values\": 2,\n        \"samples\": [\n          0,\n          1\n        ],\n        \"semantic_type\": \"\",\n        \"description\": \"\"\n      }\n    },\n    {\n      \"column\": \"INCOME_AMT\",\n      \"properties\": {\n        \"dtype\": \"category\",\n        \"num_unique_values\": 9,\n        \"samples\": [\n          \"1M-5M\",\n          \"1-9999\"\n        ],\n        \"semantic_type\": \"\",\n        \"description\": \"\"\n      }\n    },\n    {\n      \"column\": \"SPECIAL_CONSIDERATIONS\",\n      \"properties\": {\n        \"dtype\": \"category\",\n        \"num_unique_values\": 2,\n        \"samples\": [\n          \"Y\",\n          \"N\"\n        ],\n        \"semantic_type\": \"\",\n        \"description\": \"\"\n      }\n    },\n    {\n      \"column\": \"ASK_AMT\",\n      \"properties\": {\n        \"dtype\": \"number\",\n        \"std\": 87130452,\n        \"min\": 5000,\n        \"max\": 8597806340,\n        \"num_unique_values\": 8747,\n        \"samples\": [\n          1328927,\n          42942\n        ],\n        \"semantic_type\": \"\",\n        \"description\": \"\"\n      }\n    },\n    {\n      \"column\": \"IS_SUCCESSFUL\",\n      \"properties\": {\n        \"dtype\": \"number\",\n        \"std\": 0,\n        \"min\": 0,\n        \"max\": 1,\n        \"num_unique_values\": 2,\n        \"samples\": [\n          0,\n          1\n        ],\n        \"semantic_type\": \"\",\n        \"description\": \"\"\n      }\n    }\n  ]\n}"
            }
          },
          "metadata": {},
          "execution_count": 38
        }
      ],
      "source": [
        "# Import our dependencies\n",
        "from sklearn.model_selection import train_test_split\n",
        "from sklearn.preprocessing import StandardScaler\n",
        "import pandas as pd\n",
        "import tensorflow as tf\n",
        "\n",
        "#  Import and read the charity_data.csv.\n",
        "import pandas as pd\n",
        "application_df = pd.read_csv(\"https://static.bc-edx.com/data/dl-1-2/m21/lms/starter/charity_data.csv\")\n",
        "application_df.head()"
      ]
    },
    {
      "cell_type": "code",
      "execution_count": 40,
      "metadata": {
        "id": "bkV8Zsz8eWLe"
      },
      "outputs": [],
      "source": [
        "# Drop the non-beneficial ID columns, 'EIN' and 'NAME'. (Chose to rename in case of error)\n",
        "clean_application_df = application_df.drop(columns=['EIN', 'NAME'])"
      ]
    },
    {
      "cell_type": "code",
      "execution_count": 41,
      "metadata": {
        "colab": {
          "base_uri": "https://localhost:8080/"
        },
        "id": "l8pMXwoTeWLf",
        "outputId": "6e47cd3c-73c1-4e4a-df8f-b0dce37a6a7d"
      },
      "outputs": [
        {
          "output_type": "stream",
          "name": "stdout",
          "text": [
            "APPLICATION_TYPE            17\n",
            "AFFILIATION                  6\n",
            "CLASSIFICATION              71\n",
            "USE_CASE                     5\n",
            "ORGANIZATION                 4\n",
            "STATUS                       2\n",
            "INCOME_AMT                   9\n",
            "SPECIAL_CONSIDERATIONS       2\n",
            "ASK_AMT                   8747\n",
            "IS_SUCCESSFUL                2\n",
            "dtype: int64\n"
          ]
        }
      ],
      "source": [
        "# Determine the number of unique values in each column.\n",
        "unique_vals = clean_application_df.nunique()\n",
        "print(unique_vals)"
      ]
    },
    {
      "cell_type": "code",
      "execution_count": 42,
      "metadata": {
        "colab": {
          "base_uri": "https://localhost:8080/"
        },
        "id": "vGdx21yoeWLf",
        "outputId": "051658fa-5c9d-4e0c-f618-b796d01676ca"
      },
      "outputs": [
        {
          "output_type": "stream",
          "name": "stdout",
          "text": [
            "T3     27037\n",
            "T4      1542\n",
            "T6      1216\n",
            "T5      1173\n",
            "T19     1065\n",
            "T8       737\n",
            "T7       725\n",
            "T10      528\n",
            "T9       156\n",
            "T13       66\n",
            "T12       27\n",
            "T2        16\n",
            "T25        3\n",
            "T14        3\n",
            "T29        2\n",
            "T15        2\n",
            "T17        1\n",
            "Name: APPLICATION_TYPE, dtype: int64\n"
          ]
        }
      ],
      "source": [
        "# Look at APPLICATION_TYPE value counts for binning\n",
        "application_type_count = clean_application_df['APPLICATION_TYPE'].value_counts()\n",
        "print(application_type_count)"
      ]
    },
    {
      "cell_type": "code",
      "execution_count": 43,
      "metadata": {
        "colab": {
          "base_uri": "https://localhost:8080/"
        },
        "id": "dUcCI391eWLg",
        "outputId": "a4e56cc7-2be0-4b08-e177-e3e08df1263e"
      },
      "outputs": [
        {
          "output_type": "execute_result",
          "data": {
            "text/plain": [
              "T3       27037\n",
              "T4        1542\n",
              "T6        1216\n",
              "T5        1173\n",
              "T19       1065\n",
              "T8         737\n",
              "T7         725\n",
              "T10        528\n",
              "Other      276\n",
              "Name: APPLICATION_TYPE, dtype: int64"
            ]
          },
          "metadata": {},
          "execution_count": 43
        }
      ],
      "source": [
        "# Choose a cutoff value and create a list of application types to be replaced\n",
        "# use the variable name `application_types_to_replace`\n",
        "cutoff_val = 500\n",
        "application_types_to_replace = list(application_type_count[application_type_count < cutoff_val].index)\n",
        "\n",
        "# Replace in dataframe\n",
        "for app in application_types_to_replace:\n",
        "    application_df['APPLICATION_TYPE'] = application_df['APPLICATION_TYPE'].replace(app,\"Other\")\n",
        "\n",
        "# Check to make sure binning was successful\n",
        "application_df['APPLICATION_TYPE'].value_counts()"
      ]
    },
    {
      "cell_type": "code",
      "execution_count": 44,
      "metadata": {
        "colab": {
          "base_uri": "https://localhost:8080/"
        },
        "id": "JfR-g9P4eWLg",
        "outputId": "c5b112d6-2c6a-4718-a7f3-427eb82fd39b"
      },
      "outputs": [
        {
          "output_type": "execute_result",
          "data": {
            "text/plain": [
              "C1000    17326\n",
              "C2000     6074\n",
              "C1200     4837\n",
              "C3000     1918\n",
              "C2100     1883\n",
              "         ...  \n",
              "C4120        1\n",
              "C8210        1\n",
              "C2561        1\n",
              "C4500        1\n",
              "C2150        1\n",
              "Name: CLASSIFICATION, Length: 71, dtype: int64"
            ]
          },
          "metadata": {},
          "execution_count": 44
        }
      ],
      "source": [
        "# Look at CLASSIFICATION value counts for binning\n",
        "classification_count = clean_application_df['CLASSIFICATION'].value_counts()\n",
        "classification_count"
      ]
    },
    {
      "cell_type": "code",
      "execution_count": 45,
      "metadata": {
        "colab": {
          "base_uri": "https://localhost:8080/"
        },
        "id": "khfyhQcSeWLh",
        "outputId": "79f92dc7-482a-4f10-841f-077aaeaeb745"
      },
      "outputs": [
        {
          "output_type": "execute_result",
          "data": {
            "text/plain": [
              "C1000    17326\n",
              "C2000     6074\n",
              "C1200     4837\n",
              "C3000     1918\n",
              "C2100     1883\n",
              "C7000      777\n",
              "C1700      287\n",
              "C4000      194\n",
              "C5000      116\n",
              "C1270      114\n",
              "C2700      104\n",
              "C2800       95\n",
              "C7100       75\n",
              "C1300       58\n",
              "C1280       50\n",
              "C1230       36\n",
              "C1400       34\n",
              "C7200       32\n",
              "C2300       32\n",
              "C1240       30\n",
              "C8000       20\n",
              "C7120       18\n",
              "C1500       16\n",
              "C1800       15\n",
              "C6000       15\n",
              "C1250       14\n",
              "C8200       11\n",
              "C1238       10\n",
              "C1278       10\n",
              "C1235        9\n",
              "C1237        9\n",
              "C7210        7\n",
              "C2400        6\n",
              "C1720        6\n",
              "C4100        6\n",
              "C1257        5\n",
              "C1600        5\n",
              "C1260        3\n",
              "C2710        3\n",
              "C0           3\n",
              "C3200        2\n",
              "C1234        2\n",
              "C1246        2\n",
              "C1267        2\n",
              "C1256        2\n",
              "Name: CLASSIFICATION, dtype: int64"
            ]
          },
          "metadata": {},
          "execution_count": 45
        }
      ],
      "source": [
        "# You may find it helpful to look at CLASSIFICATION value counts >1\n",
        "classification_gt_1 = classification_count[classification_count > 1]\n",
        "classification_gt_1"
      ]
    },
    {
      "cell_type": "code",
      "execution_count": 46,
      "metadata": {
        "colab": {
          "base_uri": "https://localhost:8080/"
        },
        "id": "6oT9v5KveWLi",
        "outputId": "a9e560eb-599a-412f-a05b-3141407e8362"
      },
      "outputs": [
        {
          "output_type": "execute_result",
          "data": {
            "text/plain": [
              "C1000    17326\n",
              "C2000     6074\n",
              "C1200     4837\n",
              "Other     2261\n",
              "C3000     1918\n",
              "C2100     1883\n",
              "Name: CLASSIFICATION, dtype: int64"
            ]
          },
          "metadata": {},
          "execution_count": 46
        }
      ],
      "source": [
        "# Choose a cutoff value and create a list of classifications to be replaced\n",
        "# use the variable name `classifications_to_replace`\n",
        "cutoff_2 = 1000\n",
        "classifications_to_replace = list(classification_count[classification_count < cutoff_2].index)\n",
        "\n",
        "# Replace in dataframe\n",
        "for cls in classifications_to_replace:\n",
        "    application_df['CLASSIFICATION'] = application_df['CLASSIFICATION'].replace(cls,\"Other\")\n",
        "\n",
        "# Check to make sure binning was successful\n",
        "application_df['CLASSIFICATION'].value_counts()"
      ]
    },
    {
      "cell_type": "code",
      "execution_count": 47,
      "metadata": {
        "id": "QFGCn3SjeWLi"
      },
      "outputs": [],
      "source": [
        "# Convert categorical data to numeric with `pd.get_dummies` *Note: shortening of 'application'\n",
        "encoded_app_df = pd.get_dummies(clean_application_df)"
      ]
    },
    {
      "cell_type": "code",
      "execution_count": 48,
      "metadata": {
        "id": "Ra37JeFweWLj"
      },
      "outputs": [],
      "source": [
        "# Split our preprocessed data into our features and target arrays\n",
        "y = encoded_app_df[\"IS_SUCCESSFUL\"].values\n",
        "X = encoded_app_df.drop([\"IS_SUCCESSFUL\"], axis=1).values\n",
        "\n",
        "X_train, X_test, y_train, y_test = train_test_split(X, y, random_state=42, stratify=y)\n"
      ]
    },
    {
      "cell_type": "code",
      "execution_count": 49,
      "metadata": {
        "id": "LX3mnTeneWLj"
      },
      "outputs": [],
      "source": [
        "# Create a StandardScaler instances\n",
        "scaler = StandardScaler()\n",
        "\n",
        "# Fit the StandardScaler\n",
        "X_scaler = scaler.fit(X_train)\n",
        "\n",
        "# Scale the data\n",
        "X_train_scaled = X_scaler.transform(X_train)\n",
        "X_test_scaled = X_scaler.transform(X_test)"
      ]
    },
    {
      "cell_type": "markdown",
      "metadata": {
        "id": "eHGma4hHeWLk"
      },
      "source": [
        "## Compile, Train and Evaluate the Model"
      ]
    },
    {
      "cell_type": "code",
      "execution_count": 76,
      "metadata": {
        "colab": {
          "base_uri": "https://localhost:8080/"
        },
        "id": "C-gKKuMCeWLk",
        "outputId": "16e00a6d-c58e-4ea8-e011-2809d7288c27"
      },
      "outputs": [
        {
          "output_type": "stream",
          "name": "stdout",
          "text": [
            "Model: \"sequential_8\"\n",
            "_________________________________________________________________\n",
            " Layer (type)                Output Shape              Param #   \n",
            "=================================================================\n",
            " dense_26 (Dense)            (None, 100)               11700     \n",
            "                                                                 \n",
            " dense_27 (Dense)            (None, 80)                8080      \n",
            "                                                                 \n",
            " dense_28 (Dense)            (None, 1)                 81        \n",
            "                                                                 \n",
            "=================================================================\n",
            "Total params: 19861 (77.58 KB)\n",
            "Trainable params: 19861 (77.58 KB)\n",
            "Non-trainable params: 0 (0.00 Byte)\n",
            "_________________________________________________________________\n"
          ]
        }
      ],
      "source": [
        "# Define the model - deep neural net, i.e., the number of input features and hidden nodes for each layer.\n",
        "\n",
        "number_input_features = len(X_train_scaled[0])\n",
        "hidden_nodes_layer1 = 100\n",
        "hidden_nodes_layer2 = 80\n",
        "\n",
        "\n",
        "nn = tf.keras.models.Sequential()\n",
        "\n",
        "# First hidden layer\n",
        "nn.add(tf.keras.layers.Dense(units=hidden_nodes_layer1, input_dim=number_input_features, activation=\"relu\"))\n",
        "\n",
        "# Second hidden layer\n",
        "nn.add(tf.keras.layers.Dense(units=hidden_nodes_layer2, activation=\"relu\"))\n",
        "\n",
        "# Output layer\n",
        "nn.add(tf.keras.layers.Dense(units=1, activation=\"sigmoid\"))\n",
        "\n",
        "# Check the structure of the model\n",
        "nn.summary()"
      ]
    },
    {
      "cell_type": "code",
      "execution_count": 77,
      "metadata": {
        "id": "zAXdSfpzeWLl"
      },
      "outputs": [],
      "source": [
        "# Compile the model\n",
        "nn.compile(loss=\"binary_crossentropy\", optimizer=\"adam\", metrics=[\"accuracy\"])"
      ]
    },
    {
      "cell_type": "code",
      "execution_count": 78,
      "metadata": {
        "colab": {
          "base_uri": "https://localhost:8080/"
        },
        "id": "07jXD6TheWLl",
        "outputId": "d2d2951f-8f85-4399-c96d-0ddc8fe1d028"
      },
      "outputs": [
        {
          "output_type": "stream",
          "name": "stdout",
          "text": [
            "Epoch 1/100\n",
            "644/644 [==============================] - 3s 3ms/step - loss: 0.5744 - accuracy: 0.7252 - val_loss: 0.5746 - val_accuracy: 0.7230\n",
            "Epoch 2/100\n",
            "644/644 [==============================] - 2s 3ms/step - loss: 0.5519 - accuracy: 0.7325 - val_loss: 0.5718 - val_accuracy: 0.7263\n",
            "Epoch 3/100\n",
            "644/644 [==============================] - 2s 3ms/step - loss: 0.5483 - accuracy: 0.7339 - val_loss: 0.5707 - val_accuracy: 0.7250\n",
            "Epoch 4/100\n",
            "644/644 [==============================] - 1s 2ms/step - loss: 0.5459 - accuracy: 0.7350 - val_loss: 0.5720 - val_accuracy: 0.7234\n",
            "Epoch 5/100\n",
            "644/644 [==============================] - 1s 2ms/step - loss: 0.5443 - accuracy: 0.7381 - val_loss: 0.5711 - val_accuracy: 0.7281\n",
            "Epoch 6/100\n",
            "644/644 [==============================] - 1s 2ms/step - loss: 0.5432 - accuracy: 0.7373 - val_loss: 0.5711 - val_accuracy: 0.7232\n",
            "Epoch 7/100\n",
            "644/644 [==============================] - 1s 2ms/step - loss: 0.5412 - accuracy: 0.7364 - val_loss: 0.5777 - val_accuracy: 0.7199\n",
            "Epoch 8/100\n",
            "644/644 [==============================] - 1s 2ms/step - loss: 0.5405 - accuracy: 0.7382 - val_loss: 0.5667 - val_accuracy: 0.7209\n",
            "Epoch 9/100\n",
            "644/644 [==============================] - 1s 2ms/step - loss: 0.5397 - accuracy: 0.7380 - val_loss: 0.5695 - val_accuracy: 0.7250\n",
            "Epoch 10/100\n",
            "644/644 [==============================] - 2s 3ms/step - loss: 0.5387 - accuracy: 0.7378 - val_loss: 0.5719 - val_accuracy: 0.7271\n",
            "Epoch 11/100\n",
            "644/644 [==============================] - 2s 3ms/step - loss: 0.5375 - accuracy: 0.7390 - val_loss: 0.5714 - val_accuracy: 0.7190\n",
            "Epoch 12/100\n",
            "644/644 [==============================] - 1s 2ms/step - loss: 0.5375 - accuracy: 0.7380 - val_loss: 0.5707 - val_accuracy: 0.7277\n",
            "Epoch 13/100\n",
            "644/644 [==============================] - 1s 2ms/step - loss: 0.5366 - accuracy: 0.7393 - val_loss: 0.5738 - val_accuracy: 0.7224\n",
            "Epoch 14/100\n",
            "644/644 [==============================] - 1s 2ms/step - loss: 0.5367 - accuracy: 0.7396 - val_loss: 0.5679 - val_accuracy: 0.7281\n",
            "Epoch 15/100\n",
            "644/644 [==============================] - 1s 2ms/step - loss: 0.5357 - accuracy: 0.7384 - val_loss: 0.5691 - val_accuracy: 0.7263\n",
            "Epoch 16/100\n",
            "644/644 [==============================] - 2s 2ms/step - loss: 0.5356 - accuracy: 0.7410 - val_loss: 0.5684 - val_accuracy: 0.7223\n",
            "Epoch 17/100\n",
            "644/644 [==============================] - 1s 2ms/step - loss: 0.5351 - accuracy: 0.7415 - val_loss: 0.5737 - val_accuracy: 0.7232\n",
            "Epoch 18/100\n",
            "644/644 [==============================] - 2s 3ms/step - loss: 0.5351 - accuracy: 0.7412 - val_loss: 0.5657 - val_accuracy: 0.7224\n",
            "Epoch 19/100\n",
            "644/644 [==============================] - 2s 3ms/step - loss: 0.5337 - accuracy: 0.7414 - val_loss: 0.5734 - val_accuracy: 0.7261\n",
            "Epoch 20/100\n",
            "644/644 [==============================] - 1s 2ms/step - loss: 0.5341 - accuracy: 0.7410 - val_loss: 0.5716 - val_accuracy: 0.7273\n",
            "Epoch 21/100\n",
            "644/644 [==============================] - 1s 2ms/step - loss: 0.5332 - accuracy: 0.7425 - val_loss: 0.5664 - val_accuracy: 0.7182\n",
            "Epoch 22/100\n",
            "644/644 [==============================] - 1s 2ms/step - loss: 0.5325 - accuracy: 0.7410 - val_loss: 0.5708 - val_accuracy: 0.7258\n",
            "Epoch 23/100\n",
            "644/644 [==============================] - 1s 2ms/step - loss: 0.5329 - accuracy: 0.7424 - val_loss: 0.5699 - val_accuracy: 0.7230\n",
            "Epoch 24/100\n",
            "644/644 [==============================] - 1s 2ms/step - loss: 0.5323 - accuracy: 0.7397 - val_loss: 0.5684 - val_accuracy: 0.7234\n",
            "Epoch 25/100\n",
            "644/644 [==============================] - 2s 2ms/step - loss: 0.5316 - accuracy: 0.7432 - val_loss: 0.5701 - val_accuracy: 0.7178\n",
            "Epoch 26/100\n",
            "644/644 [==============================] - 2s 3ms/step - loss: 0.5315 - accuracy: 0.7427 - val_loss: 0.5727 - val_accuracy: 0.7267\n",
            "Epoch 27/100\n",
            "644/644 [==============================] - 2s 3ms/step - loss: 0.5314 - accuracy: 0.7433 - val_loss: 0.5697 - val_accuracy: 0.7269\n",
            "Epoch 28/100\n",
            "644/644 [==============================] - 1s 2ms/step - loss: 0.5307 - accuracy: 0.7428 - val_loss: 0.5680 - val_accuracy: 0.7234\n",
            "Epoch 29/100\n",
            "644/644 [==============================] - 1s 2ms/step - loss: 0.5309 - accuracy: 0.7435 - val_loss: 0.5654 - val_accuracy: 0.7277\n",
            "Epoch 30/100\n",
            "644/644 [==============================] - 1s 2ms/step - loss: 0.5297 - accuracy: 0.7441 - val_loss: 0.5750 - val_accuracy: 0.7186\n",
            "Epoch 31/100\n",
            "644/644 [==============================] - 1s 2ms/step - loss: 0.5297 - accuracy: 0.7427 - val_loss: 0.5752 - val_accuracy: 0.7256\n",
            "Epoch 32/100\n",
            "644/644 [==============================] - 2s 2ms/step - loss: 0.5310 - accuracy: 0.7430 - val_loss: 0.5731 - val_accuracy: 0.7267\n",
            "Epoch 33/100\n",
            "644/644 [==============================] - 2s 2ms/step - loss: 0.5298 - accuracy: 0.7438 - val_loss: 0.5708 - val_accuracy: 0.7256\n",
            "Epoch 34/100\n",
            "644/644 [==============================] - 2s 3ms/step - loss: 0.5291 - accuracy: 0.7436 - val_loss: 0.5756 - val_accuracy: 0.7258\n",
            "Epoch 35/100\n",
            "644/644 [==============================] - 2s 3ms/step - loss: 0.5289 - accuracy: 0.7448 - val_loss: 0.5756 - val_accuracy: 0.7207\n",
            "Epoch 36/100\n",
            "644/644 [==============================] - 2s 2ms/step - loss: 0.5291 - accuracy: 0.7436 - val_loss: 0.5768 - val_accuracy: 0.7219\n",
            "Epoch 37/100\n",
            "644/644 [==============================] - 1s 2ms/step - loss: 0.5290 - accuracy: 0.7452 - val_loss: 0.5751 - val_accuracy: 0.7273\n",
            "Epoch 38/100\n",
            "644/644 [==============================] - 1s 2ms/step - loss: 0.5281 - accuracy: 0.7450 - val_loss: 0.5738 - val_accuracy: 0.7250\n",
            "Epoch 39/100\n",
            "644/644 [==============================] - 1s 2ms/step - loss: 0.5276 - accuracy: 0.7451 - val_loss: 0.5763 - val_accuracy: 0.7234\n",
            "Epoch 40/100\n",
            "644/644 [==============================] - 1s 2ms/step - loss: 0.5281 - accuracy: 0.7430 - val_loss: 0.5777 - val_accuracy: 0.7230\n",
            "Epoch 41/100\n",
            "644/644 [==============================] - 2s 2ms/step - loss: 0.5276 - accuracy: 0.7441 - val_loss: 0.5769 - val_accuracy: 0.7256\n",
            "Epoch 42/100\n",
            "644/644 [==============================] - 2s 3ms/step - loss: 0.5277 - accuracy: 0.7451 - val_loss: 0.5746 - val_accuracy: 0.7223\n",
            "Epoch 43/100\n",
            "644/644 [==============================] - 2s 3ms/step - loss: 0.5272 - accuracy: 0.7448 - val_loss: 0.5800 - val_accuracy: 0.7236\n",
            "Epoch 44/100\n",
            "644/644 [==============================] - 1s 2ms/step - loss: 0.5271 - accuracy: 0.7459 - val_loss: 0.5788 - val_accuracy: 0.7244\n",
            "Epoch 45/100\n",
            "644/644 [==============================] - 1s 2ms/step - loss: 0.5268 - accuracy: 0.7448 - val_loss: 0.5825 - val_accuracy: 0.7263\n",
            "Epoch 46/100\n",
            "644/644 [==============================] - 1s 2ms/step - loss: 0.5267 - accuracy: 0.7444 - val_loss: 0.5815 - val_accuracy: 0.7223\n",
            "Epoch 47/100\n",
            "644/644 [==============================] - 1s 2ms/step - loss: 0.5263 - accuracy: 0.7454 - val_loss: 0.5784 - val_accuracy: 0.7232\n",
            "Epoch 48/100\n",
            "644/644 [==============================] - 3s 4ms/step - loss: 0.5262 - accuracy: 0.7455 - val_loss: 0.5828 - val_accuracy: 0.7256\n",
            "Epoch 49/100\n",
            "644/644 [==============================] - 2s 4ms/step - loss: 0.5262 - accuracy: 0.7445 - val_loss: 0.5811 - val_accuracy: 0.7256\n",
            "Epoch 50/100\n",
            "644/644 [==============================] - 2s 3ms/step - loss: 0.5257 - accuracy: 0.7461 - val_loss: 0.5841 - val_accuracy: 0.7209\n",
            "Epoch 51/100\n",
            "644/644 [==============================] - 1s 2ms/step - loss: 0.5261 - accuracy: 0.7455 - val_loss: 0.5850 - val_accuracy: 0.7252\n",
            "Epoch 52/100\n",
            "644/644 [==============================] - 1s 2ms/step - loss: 0.5260 - accuracy: 0.7467 - val_loss: 0.5786 - val_accuracy: 0.7259\n",
            "Epoch 53/100\n",
            "644/644 [==============================] - 1s 2ms/step - loss: 0.5255 - accuracy: 0.7457 - val_loss: 0.5823 - val_accuracy: 0.7248\n",
            "Epoch 54/100\n",
            "644/644 [==============================] - 1s 2ms/step - loss: 0.5253 - accuracy: 0.7466 - val_loss: 0.5847 - val_accuracy: 0.7252\n",
            "Epoch 55/100\n",
            "644/644 [==============================] - 1s 2ms/step - loss: 0.5251 - accuracy: 0.7463 - val_loss: 0.5815 - val_accuracy: 0.7256\n",
            "Epoch 56/100\n",
            "644/644 [==============================] - 1s 2ms/step - loss: 0.5256 - accuracy: 0.7453 - val_loss: 0.5833 - val_accuracy: 0.7261\n",
            "Epoch 57/100\n",
            "644/644 [==============================] - 1s 2ms/step - loss: 0.5252 - accuracy: 0.7465 - val_loss: 0.5814 - val_accuracy: 0.7267\n",
            "Epoch 58/100\n",
            "644/644 [==============================] - 2s 3ms/step - loss: 0.5247 - accuracy: 0.7457 - val_loss: 0.5842 - val_accuracy: 0.7236\n",
            "Epoch 59/100\n",
            "644/644 [==============================] - 1s 2ms/step - loss: 0.5242 - accuracy: 0.7466 - val_loss: 0.5848 - val_accuracy: 0.7261\n",
            "Epoch 60/100\n",
            "644/644 [==============================] - 1s 2ms/step - loss: 0.5246 - accuracy: 0.7462 - val_loss: 0.5787 - val_accuracy: 0.7259\n",
            "Epoch 61/100\n",
            "644/644 [==============================] - 1s 2ms/step - loss: 0.5250 - accuracy: 0.7449 - val_loss: 0.5858 - val_accuracy: 0.7252\n",
            "Epoch 62/100\n",
            "644/644 [==============================] - 1s 2ms/step - loss: 0.5244 - accuracy: 0.7465 - val_loss: 0.5961 - val_accuracy: 0.7275\n",
            "Epoch 63/100\n",
            "644/644 [==============================] - 1s 2ms/step - loss: 0.5250 - accuracy: 0.7459 - val_loss: 0.5909 - val_accuracy: 0.7256\n",
            "Epoch 64/100\n",
            "644/644 [==============================] - 1s 2ms/step - loss: 0.5250 - accuracy: 0.7462 - val_loss: 0.6002 - val_accuracy: 0.7269\n",
            "Epoch 65/100\n",
            "644/644 [==============================] - 1s 2ms/step - loss: 0.5240 - accuracy: 0.7451 - val_loss: 0.5899 - val_accuracy: 0.7281\n",
            "Epoch 66/100\n",
            "644/644 [==============================] - 2s 3ms/step - loss: 0.5240 - accuracy: 0.7471 - val_loss: 0.5921 - val_accuracy: 0.7221\n",
            "Epoch 67/100\n",
            "644/644 [==============================] - 2s 3ms/step - loss: 0.5237 - accuracy: 0.7451 - val_loss: 0.5896 - val_accuracy: 0.7242\n",
            "Epoch 68/100\n",
            "644/644 [==============================] - 2s 2ms/step - loss: 0.5239 - accuracy: 0.7462 - val_loss: 0.5820 - val_accuracy: 0.7224\n",
            "Epoch 69/100\n",
            "644/644 [==============================] - 2s 2ms/step - loss: 0.5235 - accuracy: 0.7466 - val_loss: 0.5895 - val_accuracy: 0.7265\n",
            "Epoch 70/100\n",
            "644/644 [==============================] - 3s 4ms/step - loss: 0.5237 - accuracy: 0.7465 - val_loss: 0.5900 - val_accuracy: 0.7258\n",
            "Epoch 71/100\n",
            "644/644 [==============================] - 2s 2ms/step - loss: 0.5240 - accuracy: 0.7456 - val_loss: 0.5987 - val_accuracy: 0.7254\n",
            "Epoch 72/100\n",
            "644/644 [==============================] - 2s 2ms/step - loss: 0.5238 - accuracy: 0.7461 - val_loss: 0.5925 - val_accuracy: 0.7261\n",
            "Epoch 73/100\n",
            "644/644 [==============================] - 2s 3ms/step - loss: 0.5237 - accuracy: 0.7471 - val_loss: 0.6059 - val_accuracy: 0.7279\n",
            "Epoch 74/100\n",
            "644/644 [==============================] - 2s 3ms/step - loss: 0.5234 - accuracy: 0.7459 - val_loss: 0.5957 - val_accuracy: 0.7269\n",
            "Epoch 75/100\n",
            "644/644 [==============================] - 1s 2ms/step - loss: 0.5233 - accuracy: 0.7460 - val_loss: 0.6155 - val_accuracy: 0.7258\n",
            "Epoch 76/100\n",
            "644/644 [==============================] - 1s 2ms/step - loss: 0.5236 - accuracy: 0.7464 - val_loss: 0.5926 - val_accuracy: 0.7265\n",
            "Epoch 77/100\n",
            "644/644 [==============================] - 1s 2ms/step - loss: 0.5231 - accuracy: 0.7458 - val_loss: 0.6015 - val_accuracy: 0.7254\n",
            "Epoch 78/100\n",
            "644/644 [==============================] - 1s 2ms/step - loss: 0.5235 - accuracy: 0.7455 - val_loss: 0.5986 - val_accuracy: 0.7238\n",
            "Epoch 79/100\n",
            "644/644 [==============================] - 2s 2ms/step - loss: 0.5228 - accuracy: 0.7459 - val_loss: 0.6026 - val_accuracy: 0.7265\n",
            "Epoch 80/100\n",
            "644/644 [==============================] - 1s 2ms/step - loss: 0.5230 - accuracy: 0.7463 - val_loss: 0.5986 - val_accuracy: 0.7256\n",
            "Epoch 81/100\n",
            "644/644 [==============================] - 2s 3ms/step - loss: 0.5233 - accuracy: 0.7454 - val_loss: 0.6099 - val_accuracy: 0.7228\n",
            "Epoch 82/100\n",
            "644/644 [==============================] - 2s 3ms/step - loss: 0.5227 - accuracy: 0.7463 - val_loss: 0.6143 - val_accuracy: 0.7275\n",
            "Epoch 83/100\n",
            "644/644 [==============================] - 2s 2ms/step - loss: 0.5228 - accuracy: 0.7472 - val_loss: 0.6097 - val_accuracy: 0.7250\n",
            "Epoch 84/100\n",
            "644/644 [==============================] - 1s 2ms/step - loss: 0.5226 - accuracy: 0.7460 - val_loss: 0.6173 - val_accuracy: 0.7230\n",
            "Epoch 85/100\n",
            "644/644 [==============================] - 2s 2ms/step - loss: 0.5239 - accuracy: 0.7456 - val_loss: 0.6048 - val_accuracy: 0.7259\n",
            "Epoch 86/100\n",
            "644/644 [==============================] - 1s 2ms/step - loss: 0.5226 - accuracy: 0.7463 - val_loss: 0.6151 - val_accuracy: 0.7205\n",
            "Epoch 87/100\n",
            "644/644 [==============================] - 1s 2ms/step - loss: 0.5227 - accuracy: 0.7465 - val_loss: 0.5924 - val_accuracy: 0.7238\n",
            "Epoch 88/100\n",
            "644/644 [==============================] - 1s 2ms/step - loss: 0.5236 - accuracy: 0.7463 - val_loss: 0.5907 - val_accuracy: 0.7197\n",
            "Epoch 89/100\n",
            "644/644 [==============================] - 2s 3ms/step - loss: 0.5225 - accuracy: 0.7460 - val_loss: 0.5982 - val_accuracy: 0.7279\n",
            "Epoch 90/100\n",
            "644/644 [==============================] - 2s 3ms/step - loss: 0.5224 - accuracy: 0.7454 - val_loss: 0.5942 - val_accuracy: 0.7289\n",
            "Epoch 91/100\n",
            "644/644 [==============================] - 1s 2ms/step - loss: 0.5222 - accuracy: 0.7468 - val_loss: 0.5992 - val_accuracy: 0.7281\n",
            "Epoch 92/100\n",
            "644/644 [==============================] - 1s 2ms/step - loss: 0.5236 - accuracy: 0.7462 - val_loss: 0.5931 - val_accuracy: 0.7219\n",
            "Epoch 93/100\n",
            "644/644 [==============================] - 2s 3ms/step - loss: 0.5233 - accuracy: 0.7464 - val_loss: 0.5934 - val_accuracy: 0.7263\n",
            "Epoch 94/100\n",
            "644/644 [==============================] - 2s 3ms/step - loss: 0.5218 - accuracy: 0.7465 - val_loss: 0.6121 - val_accuracy: 0.7226\n",
            "Epoch 95/100\n",
            "644/644 [==============================] - 1s 2ms/step - loss: 0.5232 - accuracy: 0.7461 - val_loss: 0.5990 - val_accuracy: 0.7248\n",
            "Epoch 96/100\n",
            "644/644 [==============================] - 2s 2ms/step - loss: 0.5227 - accuracy: 0.7468 - val_loss: 0.6081 - val_accuracy: 0.7277\n",
            "Epoch 97/100\n",
            "644/644 [==============================] - 2s 3ms/step - loss: 0.5228 - accuracy: 0.7473 - val_loss: 0.6000 - val_accuracy: 0.7252\n",
            "Epoch 98/100\n",
            "644/644 [==============================] - 1s 2ms/step - loss: 0.5221 - accuracy: 0.7468 - val_loss: 0.6188 - val_accuracy: 0.7258\n",
            "Epoch 99/100\n",
            "644/644 [==============================] - 1s 2ms/step - loss: 0.5226 - accuracy: 0.7456 - val_loss: 0.6185 - val_accuracy: 0.7269\n",
            "Epoch 100/100\n",
            "644/644 [==============================] - 2s 2ms/step - loss: 0.5219 - accuracy: 0.7452 - val_loss: 0.6318 - val_accuracy: 0.7259\n"
          ]
        }
      ],
      "source": [
        "# Train the model\n",
        "history = nn.fit(\n",
        "    X_train_scaled,\n",
        "    y_train,\n",
        "    epochs=100,\n",
        "    batch_size=32,\n",
        "    validation_split=0.2,\n",
        "    verbose=1\n",
        ")"
      ]
    },
    {
      "cell_type": "code",
      "execution_count": 79,
      "metadata": {
        "colab": {
          "base_uri": "https://localhost:8080/"
        },
        "id": "d9yHaZ39eWLm",
        "outputId": "e05d0d81-a8ed-4e51-ff98-7706f52b6d21"
      },
      "outputs": [
        {
          "output_type": "stream",
          "name": "stdout",
          "text": [
            "268/268 - 0s - loss: 0.5874 - accuracy: 0.7251 - 323ms/epoch - 1ms/step\n",
            "Loss: 0.5874456167221069, Accuracy: 0.7251312136650085\n"
          ]
        }
      ],
      "source": [
        "# Evaluate the model using the test data\n",
        "model_loss, model_accuracy = nn.evaluate(X_test_scaled,y_test,verbose=2)\n",
        "print(f\"Loss: {model_loss}, Accuracy: {model_accuracy}\")"
      ]
    },
    {
      "cell_type": "code",
      "execution_count": 80,
      "metadata": {
        "colab": {
          "base_uri": "https://localhost:8080/"
        },
        "id": "YOS2-zzceWLn",
        "outputId": "f37bcb5f-0c3a-4e01-cbb8-e57a5e77259f"
      },
      "outputs": [
        {
          "output_type": "stream",
          "name": "stderr",
          "text": [
            "/usr/local/lib/python3.10/dist-packages/keras/src/engine/training.py:3103: UserWarning: You are saving your model as an HDF5 file via `model.save()`. This file format is considered legacy. We recommend using instead the native Keras format, e.g. `model.save('my_model.keras')`.\n",
            "  saving_api.save_model(\n"
          ]
        }
      ],
      "source": [
        "# Export our model to HDF5 file\n",
        "nn.save(\"AlphabetSoupCharity.h5\")"
      ]
    }
  ],
  "metadata": {
    "kernelspec": {
      "display_name": "Python 3",
      "language": "python",
      "name": "python3"
    },
    "language_info": {
      "codemirror_mode": {
        "name": "ipython",
        "version": 3
      },
      "file_extension": ".py",
      "mimetype": "text/x-python",
      "name": "python",
      "nbconvert_exporter": "python",
      "pygments_lexer": "ipython3",
      "version": "3.-1.-1"
    },
    "vscode": {
      "interpreter": {
        "hash": "31f2aee4e71d21fbe5cf8b01ff0e069b9275f58929596ceb00d14d90e3e16cd6"
      }
    },
    "colab": {
      "provenance": [],
      "include_colab_link": true
    }
  },
  "nbformat": 4,
  "nbformat_minor": 0
}